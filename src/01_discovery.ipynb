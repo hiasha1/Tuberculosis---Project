{
 "cells": [
  {
   "cell_type": "markdown",
   "metadata": {},
   "source": [
    " # Tuberculosis Project\n",
    "This is a Capstone project for Data Analysis. This project will give awareness to people about Tuberculosis.\n",
    "\n",
    "# About Tuberculosis:\n",
    "Tuberculosis (TB) is caused by a bacterium (or germ) called Mycobacterium tuberculosis. In the United States, the majority of TB disease cases in people are caused by Mycobacterium tuberculosis.\n",
    "\n",
    "Two TB-related conditions exist: inactive TB and active TB disease.\n",
    "\n",
    "TB usually affects the lungs. TB can also affect other parts of the body, such as the brain, the kidneys, or the spine. TB can also affect multiple parts of the body at the same time. For example, TB can affect both the lungs and lymph nodes.\n",
    "Not everyone infected with TB germs becomes sick. As a result, two TB-related conditions exist: inactive TB (or latent TB infection) and active TB disease.If not treated properly, TB disease can be fatal.\n",
    "\n",
    "[Source] (https://www.cdc.gov/tb/about/index.html)\n"
   ]
  },
  {
   "cell_type": "markdown",
   "metadata": {},
   "source": [
    "# Goals:\n",
    "    Ending the global TB epidemic,reducing TB incidence and mortality.\n",
    "# The end result of this project will aware people about:\n",
    "    - The symptoms of disease\n",
    "    - The Screening process\n",
    "    - Types of Tuberculosis\n",
    "    - How it spread?\n",
    "    - Risk factors\n",
    "    - Prevention\n",
    "    - Traetment\n",
    "    - Detection rate"
   ]
  },
  {
   "cell_type": "markdown",
   "metadata": {},
   "source": [
    "## Steps:\n",
    "1. List(or research) key metrics for Tuberculosis.\n",
    "2. Identify the type of analysis that can be done and list the questions that can be answered.\n",
    "3. Review available data and create  and save the raw data in raw folder.\n",
    "4. Clean the data by removing unneeded columns and rows also rename the column name if needed then create  and save the clean data in the clean folder.\n",
    "6. Analyze the data and answer the question.\n",
    "7. Visualize the analysis.\n",
    "\n"
   ]
  },
  {
   "cell_type": "markdown",
   "metadata": {},
   "source": [
    "# List(or research) key metrics for Tuberculosis:\n",
    "\n",
    " #  Identify the type of analysis that can be done and list the questions that can be answered.\n",
    "\n",
    "  What are the symptoms of Tuberculosis?\n",
    "\n",
    "  What is the process of screening for Turboculasis?\n",
    "\n",
    "  What are the types of Turboculasis?\n",
    "\n",
    "  How it spread? \n",
    "\n",
    "  What are the risk factors?\n",
    "\n",
    "  What are the Prevention? \n",
    "\n",
    "  What are the treatment?\n",
    "\n",
    "  What are the Tuberculosis detection rate?\n",
    "\n",
    "  What are the Turberculosis success rate?\n",
    "\n"
   ]
  },
  {
   "cell_type": "markdown",
   "metadata": {},
   "source": [
    "## Symptoms of Tuberculosis:\n",
    "Following table shows the symptoms of Turboculasis:"
   ]
  },
  {
   "cell_type": "code",
   "execution_count": null,
   "metadata": {},
   "outputs": [],
   "source": [
    "import pandas as pd\n",
    "#import os\n",
    "#print(os.getcwd())\n",
    "tb_csv = pd.read_csv(\"../data/raw/Tb disease symptoms.csv\")\n",
    "tb_csv"
   ]
  },
  {
   "cell_type": "markdown",
   "metadata": {},
   "source": [
    " ## Screening for Tuberculosis:\n",
    " There are two types of tests for TB infection:\n",
    "\n",
    " TB blood test:\n",
    "\n",
    "The TB blood test is also called an interferon-gamma release assay or IGRA. The TB blood test measures how your immune system reacts to the germs that cause TB.\n",
    "\n",
    "TB skin test:\n",
    "\n",
    "For the TB skin test, a health care provider uses a small needle to put some testing material under the skin. You will need to return to your health care provider in two to three days to see if there is a reaction.\n",
    "\n",
    "For more information click the link below:\n",
    "[Source]\n",
    "https://www.cdc.gov/tb/testing/index.html"
   ]
  },
  {
   "cell_type": "markdown",
   "metadata": {},
   "source": [
    "# Types of Turboculosis:\n",
    "Tuberculosis has two types-\n",
    "\n",
    "Inactive TB\n",
    "\n",
    "TB germs can live in the body without making you sick. This is called inactive TB, or latent TB infection.\n",
    "Keep Reading:\n",
    "https://www.cdc.gov/tb/about/inactive-tuberculosis.html\n",
    "\n",
    "Active TB\n",
    "\n",
    "TB germs become active if the immune system can’t stop them from growing. When TB germs are active (multiplying in your body), this is called active TB disease\n",
    "Keep Reading:\n",
    "https://www.cdc.gov/tb/about/active-tuberculosis-disease.html"
   ]
  },
  {
   "cell_type": "markdown",
   "metadata": {},
   "source": [
    "#  Spread process\n",
    "TB is spread through the air from one person to another. The TB germs are put into the air when a person with active TB disease of the lungs or throat coughs, speaks, or sings.These germs can stay in the air for several hours, depending on the environment. People who breathe in the air become infected with TB.\n",
    "Keep Reading:\n",
    "https://www.cdc.gov/tb/causes/index.html\n"
   ]
  },
  {
   "cell_type": "markdown",
   "metadata": {},
   "source": [
    "# Prevention\n",
    "People with inactive tuberculosis (TB), also called latent TB infection, can take treatment to prevent the development of active TB disease.\n",
    "People with active TB disease of the lungs or throat may need to take steps to prevent spreading TB germs to others.\n",
    "It is important for people to take all TB medicine exactly as prescribed.\n",
    "Infection control plans can minimize the risk for exposure to and spread of TB in health care settings.\n",
    "Keep Reading:\n",
    "https://www.cdc.gov/tb/prevention/index.html"
   ]
  },
  {
   "cell_type": "markdown",
   "metadata": {},
   "source": [
    "# Treatment\n",
    "There are several safe and effective treatment plans recommended in the United States for active TB disease. A treatment plan (also called treatment regimen) for active TB disease is a schedule to take TB medicines to kill all the TB germs.\n",
    "Keep Reading:\n",
    "https://www.cdc.gov/tb/treatment/index.html "
   ]
  },
  {
   "cell_type": "markdown",
   "metadata": {},
   "source": [
    "# Tuberculosis detection rate:\n",
    "The table below shows the Tuberculosis detection rate by country."
   ]
  },
  {
   "cell_type": "markdown",
   "metadata": {},
   "source": []
  },
  {
   "cell_type": "code",
   "execution_count": null,
   "metadata": {},
   "outputs": [],
   "source": [
    "import pandas as pd\n",
    "tb_csv =pd.read_csv(\"../data/raw/3- tuberculosis-case-detection-rate.csv\")\n"
   ]
  },
  {
   "cell_type": "markdown",
   "metadata": {},
   "source": [
    "# Tuberculosis Success rate:\n",
    "The table below shows the Tuberculosis success rate by country."
   ]
  },
  {
   "cell_type": "code",
   "execution_count": null,
   "metadata": {},
   "outputs": [],
   "source": [
    "import pandas as pd\n",
    "tb_treat= pd.read_csv(\"data/raw/4- tuberculosis-treatment-success-rate-by-type.csv\")"
   ]
  },
  {
   "cell_type": "markdown",
   "metadata": {},
   "source": [
    "## Clean the Data :\n",
    "\n",
    "(Tb disease symptoms.csv)\n",
    "\n",
    "  Remove space from night sweats and weight loss.\n",
    "  Change the columns names in  fever for two weeks, back pain in certain parts, lumps that appear around the armpits and neck, cough and phlegm continuously for two weeks to four weeks.\n",
    "  Add underscore in column name.\n",
    "  Select the columns that wants to keep.\n",
    "  Make new csv file with clean data.\n",
    "\n",
    " (tuberculosis-case-detection-rate.csv)\n",
    "\n",
    " Read data from the file.\n",
    " Rename the columns name.\n",
    " Remove the rows with 0.0 case_detection_rate.\n",
    " Remove the rows with 3 or less case_detection_rate.\n",
    " Make a new file with cleaning data .\n",
    "\n",
    "(tuberculosis-treatment-success-rate-by-type.csv)\n",
    "\n",
    " Read data from a raw file.\n",
    " Rename the columns name.\n",
    " Remove unneeded columns.\n",
    " Delete rows with null values.\n",
    " Make a new file with cleaning data.\n"
   ]
  },
  {
   "cell_type": "markdown",
   "metadata": {},
   "source": []
  }
 ],
 "metadata": {
  "kernelspec": {
   "display_name": "Python 3",
   "language": "python",
   "name": "python3"
  },
  "language_info": {
   "codemirror_mode": {
    "name": "ipython",
    "version": 3
   },
   "file_extension": ".py",
   "mimetype": "text/x-python",
   "name": "python",
   "nbconvert_exporter": "python",
   "pygments_lexer": "ipython3",
   "version": "3.12.3"
  }
 },
 "nbformat": 4,
 "nbformat_minor": 2
}
